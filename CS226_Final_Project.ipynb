{
 "cells": [
  {
   "cell_type": "markdown",
   "metadata": {},
   "source": [
    "### Load necessary packages and libraries"
   ]
  },
  {
   "cell_type": "code",
   "execution_count": 41,
   "metadata": {},
   "outputs": [],
   "source": [
    "import numpy as np\n",
    "import pandas as pd\n",
    "import os\n",
    "from fastai.vision.all import *\n",
    "import matplotlib.pyplot as plt\n",
    "\n",
    "from pprint import pprint"
   ]
  },
  {
   "cell_type": "code",
   "execution_count": 35,
   "metadata": {
    "scrolled": true
   },
   "outputs": [
    {
     "data": {
      "text/plain": [
       "{'__name__': 'fastai.vision.models',\n",
       " '__doc__': None,\n",
       " '__package__': 'fastai.vision.models',\n",
       " '__loader__': <_frozen_importlib_external.SourceFileLoader at 0x2aa4e41bbe0>,\n",
       " '__spec__': ModuleSpec(name='fastai.vision.models', loader=<_frozen_importlib_external.SourceFileLoader object at 0x000002AA4E41BBE0>, origin='C:\\\\Users\\\\jandr\\\\anaconda3\\\\lib\\\\site-packages\\\\fastai\\\\vision\\\\models\\\\__init__.py', submodule_search_locations=['C:\\\\Users\\\\jandr\\\\anaconda3\\\\lib\\\\site-packages\\\\fastai\\\\vision\\\\models']),\n",
       " '__path__': ['C:\\\\Users\\\\jandr\\\\anaconda3\\\\lib\\\\site-packages\\\\fastai\\\\vision\\\\models'],\n",
       " '__file__': 'C:\\\\Users\\\\jandr\\\\anaconda3\\\\lib\\\\site-packages\\\\fastai\\\\vision\\\\models\\\\__init__.py',\n",
       " '__cached__': 'C:\\\\Users\\\\jandr\\\\anaconda3\\\\lib\\\\site-packages\\\\fastai\\\\vision\\\\models\\\\__pycache__\\\\__init__.cpython-39.pyc',\n",
       " '__builtins__': {'__name__': 'builtins',\n",
       "  '__doc__': \"Built-in functions, exceptions, and other objects.\\n\\nNoteworthy: None is the `nil' object; Ellipsis represents `...' in slices.\",\n",
       "  '__package__': '',\n",
       "  '__loader__': _frozen_importlib.BuiltinImporter,\n",
       "  '__spec__': ModuleSpec(name='builtins', loader=<class '_frozen_importlib.BuiltinImporter'>, origin='built-in'),\n",
       "  '__build_class__': <function __build_class__>,\n",
       "  '__import__': <function __import__>,\n",
       "  'abs': <function abs(x, /)>,\n",
       "  'all': <function all(iterable, /)>,\n",
       "  'any': <function any(iterable, /)>,\n",
       "  'ascii': <function ascii(obj, /)>,\n",
       "  'bin': <function bin(number, /)>,\n",
       "  'breakpoint': <function breakpoint>,\n",
       "  'callable': <function callable(obj, /)>,\n",
       "  'chr': <function chr(i, /)>,\n",
       "  'compile': <function compile(source, filename, mode, flags=0, dont_inherit=False, optimize=-1, *, _feature_version=-1)>,\n",
       "  'delattr': <function delattr(obj, name, /)>,\n",
       "  'dir': <function dir>,\n",
       "  'divmod': <function divmod(x, y, /)>,\n",
       "  'eval': <function eval(source, globals=None, locals=None, /)>,\n",
       "  'exec': <function exec(source, globals=None, locals=None, /)>,\n",
       "  'format': <function format(value, format_spec='', /)>,\n",
       "  'getattr': <function getattr>,\n",
       "  'globals': <function globals()>,\n",
       "  'hasattr': <function hasattr(obj, name, /)>,\n",
       "  'hash': <function hash(obj, /)>,\n",
       "  'hex': <function hex(number, /)>,\n",
       "  'id': <function id(obj, /)>,\n",
       "  'input': <bound method Kernel.raw_input of <ipykernel.ipkernel.IPythonKernel object at 0x000002AA4C073DC0>>,\n",
       "  'isinstance': <function isinstance(obj, class_or_tuple, /)>,\n",
       "  'issubclass': <function issubclass(cls, class_or_tuple, /)>,\n",
       "  'iter': <function iter>,\n",
       "  'len': <function len(obj, /)>,\n",
       "  'locals': <function locals()>,\n",
       "  'max': <function max>,\n",
       "  'min': <function min>,\n",
       "  'next': <function next>,\n",
       "  'oct': <function oct(number, /)>,\n",
       "  'ord': <function ord(c, /)>,\n",
       "  'pow': <function pow(base, exp, mod=None)>,\n",
       "  'print': <function print>,\n",
       "  'repr': <function repr(obj, /)>,\n",
       "  'round': <function round(number, ndigits=None)>,\n",
       "  'setattr': <function setattr(obj, name, value, /)>,\n",
       "  'sorted': <function sorted(iterable, /, *, key=None, reverse=False)>,\n",
       "  'sum': <function sum(iterable, /, start=0)>,\n",
       "  'vars': <function vars>,\n",
       "  'None': None,\n",
       "  'Ellipsis': Ellipsis,\n",
       "  'NotImplemented': NotImplemented,\n",
       "  'False': False,\n",
       "  'True': True,\n",
       "  'bool': bool,\n",
       "  'memoryview': memoryview,\n",
       "  'bytearray': bytearray,\n",
       "  'bytes': bytes,\n",
       "  'classmethod': classmethod,\n",
       "  'complex': complex,\n",
       "  'dict': dict,\n",
       "  'enumerate': enumerate,\n",
       "  'filter': filter,\n",
       "  'float': float,\n",
       "  'frozenset': frozenset,\n",
       "  'property': property,\n",
       "  'int': int,\n",
       "  'list': list,\n",
       "  'map': map,\n",
       "  'object': object,\n",
       "  'range': range,\n",
       "  'reversed': reversed,\n",
       "  'set': set,\n",
       "  'slice': slice,\n",
       "  'staticmethod': staticmethod,\n",
       "  'str': str,\n",
       "  'super': super,\n",
       "  'tuple': tuple,\n",
       "  'type': type,\n",
       "  'zip': zip,\n",
       "  '__debug__': True,\n",
       "  'BaseException': BaseException,\n",
       "  'Exception': Exception,\n",
       "  'TypeError': TypeError,\n",
       "  'StopAsyncIteration': StopAsyncIteration,\n",
       "  'StopIteration': StopIteration,\n",
       "  'GeneratorExit': GeneratorExit,\n",
       "  'SystemExit': SystemExit,\n",
       "  'KeyboardInterrupt': KeyboardInterrupt,\n",
       "  'ImportError': ImportError,\n",
       "  'ModuleNotFoundError': ModuleNotFoundError,\n",
       "  'OSError': OSError,\n",
       "  'EnvironmentError': OSError,\n",
       "  'IOError': OSError,\n",
       "  'WindowsError': OSError,\n",
       "  'EOFError': EOFError,\n",
       "  'RuntimeError': RuntimeError,\n",
       "  'RecursionError': RecursionError,\n",
       "  'NotImplementedError': NotImplementedError,\n",
       "  'NameError': NameError,\n",
       "  'UnboundLocalError': UnboundLocalError,\n",
       "  'AttributeError': AttributeError,\n",
       "  'SyntaxError': SyntaxError,\n",
       "  'IndentationError': IndentationError,\n",
       "  'TabError': TabError,\n",
       "  'LookupError': LookupError,\n",
       "  'IndexError': IndexError,\n",
       "  'KeyError': KeyError,\n",
       "  'ValueError': ValueError,\n",
       "  'UnicodeError': UnicodeError,\n",
       "  'UnicodeEncodeError': UnicodeEncodeError,\n",
       "  'UnicodeDecodeError': UnicodeDecodeError,\n",
       "  'UnicodeTranslateError': UnicodeTranslateError,\n",
       "  'AssertionError': AssertionError,\n",
       "  'ArithmeticError': ArithmeticError,\n",
       "  'FloatingPointError': FloatingPointError,\n",
       "  'OverflowError': OverflowError,\n",
       "  'ZeroDivisionError': ZeroDivisionError,\n",
       "  'SystemError': SystemError,\n",
       "  'ReferenceError': ReferenceError,\n",
       "  'MemoryError': MemoryError,\n",
       "  'BufferError': BufferError,\n",
       "  'Warning': Warning,\n",
       "  'UserWarning': UserWarning,\n",
       "  'DeprecationWarning': DeprecationWarning,\n",
       "  'PendingDeprecationWarning': PendingDeprecationWarning,\n",
       "  'SyntaxWarning': SyntaxWarning,\n",
       "  'RuntimeWarning': RuntimeWarning,\n",
       "  'FutureWarning': FutureWarning,\n",
       "  'ImportWarning': ImportWarning,\n",
       "  'UnicodeWarning': UnicodeWarning,\n",
       "  'BytesWarning': BytesWarning,\n",
       "  'ResourceWarning': ResourceWarning,\n",
       "  'ConnectionError': ConnectionError,\n",
       "  'BlockingIOError': BlockingIOError,\n",
       "  'BrokenPipeError': BrokenPipeError,\n",
       "  'ChildProcessError': ChildProcessError,\n",
       "  'ConnectionAbortedError': ConnectionAbortedError,\n",
       "  'ConnectionRefusedError': ConnectionRefusedError,\n",
       "  'ConnectionResetError': ConnectionResetError,\n",
       "  'FileExistsError': FileExistsError,\n",
       "  'FileNotFoundError': FileNotFoundError,\n",
       "  'IsADirectoryError': IsADirectoryError,\n",
       "  'NotADirectoryError': NotADirectoryError,\n",
       "  'InterruptedError': InterruptedError,\n",
       "  'PermissionError': PermissionError,\n",
       "  'ProcessLookupError': ProcessLookupError,\n",
       "  'TimeoutError': TimeoutError,\n",
       "  'open': <function io.open(file, mode='r', buffering=-1, encoding=None, errors=None, newline=None, closefd=True, opener=None)>,\n",
       "  'copyright': Copyright (c) 2001-2021 Python Software Foundation.\n",
       "  All Rights Reserved.\n",
       "  \n",
       "  Copyright (c) 2000 BeOpen.com.\n",
       "  All Rights Reserved.\n",
       "  \n",
       "  Copyright (c) 1995-2001 Corporation for National Research Initiatives.\n",
       "  All Rights Reserved.\n",
       "  \n",
       "  Copyright (c) 1991-1995 Stichting Mathematisch Centrum, Amsterdam.\n",
       "  All Rights Reserved.,\n",
       "  'credits':     Thanks to CWI, CNRI, BeOpen.com, Zope Corporation and a cast of thousands\n",
       "      for supporting Python development.  See www.python.org for more information.,\n",
       "  'license': See https://www.python.org/psf/license/,\n",
       "  'help': Type help() for interactive help, or help(object) for help about object.,\n",
       "  'execfile': <function _pydev_imps._pydev_execfile.execfile(file, glob=None, loc=None)>,\n",
       "  'runfile': <function _pydev_bundle.pydev_umd.runfile(filename, args=None, wdir=None, namespace=None)>,\n",
       "  '__IPYTHON__': True,\n",
       "  'display': <function IPython.core.display.display(*objs, include=None, exclude=None, metadata=None, transient=None, display_id=None, **kwargs)>,\n",
       "  '__pybind11_internals_v4_msvc__': <capsule object NULL at 0x000002AA4EA213C0>,\n",
       "  'get_ipython': <bound method InteractiveShell.get_ipython of <ipykernel.zmqshell.ZMQInteractiveShell object at 0x000002AA4C0C2280>>},\n",
       " 'xresnet': <module 'fastai.vision.models.xresnet' from 'C:\\\\Users\\\\jandr\\\\anaconda3\\\\lib\\\\site-packages\\\\fastai\\\\vision\\\\models\\\\xresnet.py'>,\n",
       " 'unet': <module 'fastai.vision.models.unet' from 'C:\\\\Users\\\\jandr\\\\anaconda3\\\\lib\\\\site-packages\\\\fastai\\\\vision\\\\models\\\\unet.py'>,\n",
       " 'tvm': <module 'fastai.vision.models.tvm' from 'C:\\\\Users\\\\jandr\\\\anaconda3\\\\lib\\\\site-packages\\\\fastai\\\\vision\\\\models\\\\tvm.py'>,\n",
       " 'alexnet': <function torchvision.models.alexnet.alexnet(*, weights: Optional[torchvision.models.alexnet.AlexNet_Weights] = None, progress: bool = True, **kwargs: Any) -> torchvision.models.alexnet.AlexNet>,\n",
       " 'AlexNet': torchvision.models.alexnet.AlexNet,\n",
       " 'AlexNet_Weights': <enum 'AlexNet_Weights'>,\n",
       " 'ConvNeXt': torchvision.models.convnext.ConvNeXt,\n",
       " 'ConvNeXt_Tiny_Weights': <enum 'ConvNeXt_Tiny_Weights'>,\n",
       " 'ConvNeXt_Small_Weights': <enum 'ConvNeXt_Small_Weights'>,\n",
       " 'ConvNeXt_Base_Weights': <enum 'ConvNeXt_Base_Weights'>,\n",
       " 'ConvNeXt_Large_Weights': <enum 'ConvNeXt_Large_Weights'>,\n",
       " 'convnext_tiny': <function torchvision.models.convnext.convnext_tiny(*, weights: Optional[torchvision.models.convnext.ConvNeXt_Tiny_Weights] = None, progress: bool = True, **kwargs: Any) -> torchvision.models.convnext.ConvNeXt>,\n",
       " 'convnext_small': <function torchvision.models.convnext.convnext_small(*, weights: Optional[torchvision.models.convnext.ConvNeXt_Small_Weights] = None, progress: bool = True, **kwargs: Any) -> torchvision.models.convnext.ConvNeXt>,\n",
       " 'convnext_base': <function torchvision.models.convnext.convnext_base(*, weights: Optional[torchvision.models.convnext.ConvNeXt_Base_Weights] = None, progress: bool = True, **kwargs: Any) -> torchvision.models.convnext.ConvNeXt>,\n",
       " 'convnext_large': <function torchvision.models.convnext.convnext_large(*, weights: Optional[torchvision.models.convnext.ConvNeXt_Large_Weights] = None, progress: bool = True, **kwargs: Any) -> torchvision.models.convnext.ConvNeXt>,\n",
       " 'DenseNet': torchvision.models.densenet.DenseNet,\n",
       " 'DenseNet121_Weights': <enum 'DenseNet121_Weights'>,\n",
       " 'DenseNet161_Weights': <enum 'DenseNet161_Weights'>,\n",
       " 'DenseNet169_Weights': <enum 'DenseNet169_Weights'>,\n",
       " 'DenseNet201_Weights': <enum 'DenseNet201_Weights'>,\n",
       " 'densenet121': <function torchvision.models.densenet.densenet121(*, weights: Optional[torchvision.models.densenet.DenseNet121_Weights] = None, progress: bool = True, **kwargs: Any) -> torchvision.models.densenet.DenseNet>,\n",
       " 'densenet161': <function torchvision.models.densenet.densenet161(*, weights: Optional[torchvision.models.densenet.DenseNet161_Weights] = None, progress: bool = True, **kwargs: Any) -> torchvision.models.densenet.DenseNet>,\n",
       " 'densenet169': <function torchvision.models.densenet.densenet169(*, weights: Optional[torchvision.models.densenet.DenseNet169_Weights] = None, progress: bool = True, **kwargs: Any) -> torchvision.models.densenet.DenseNet>,\n",
       " 'densenet201': <function torchvision.models.densenet.densenet201(*, weights: Optional[torchvision.models.densenet.DenseNet201_Weights] = None, progress: bool = True, **kwargs: Any) -> torchvision.models.densenet.DenseNet>,\n",
       " 'EfficientNet': torchvision.models.efficientnet.EfficientNet,\n",
       " 'EfficientNet_B0_Weights': <enum 'EfficientNet_B0_Weights'>,\n",
       " 'EfficientNet_B1_Weights': <enum 'EfficientNet_B1_Weights'>,\n",
       " 'EfficientNet_B2_Weights': <enum 'EfficientNet_B2_Weights'>,\n",
       " 'EfficientNet_B3_Weights': <enum 'EfficientNet_B3_Weights'>,\n",
       " 'EfficientNet_B4_Weights': <enum 'EfficientNet_B4_Weights'>,\n",
       " 'EfficientNet_B5_Weights': <enum 'EfficientNet_B5_Weights'>,\n",
       " 'EfficientNet_B6_Weights': <enum 'EfficientNet_B6_Weights'>,\n",
       " 'EfficientNet_B7_Weights': <enum 'EfficientNet_B7_Weights'>,\n",
       " 'EfficientNet_V2_S_Weights': <enum 'EfficientNet_V2_S_Weights'>,\n",
       " 'EfficientNet_V2_M_Weights': <enum 'EfficientNet_V2_M_Weights'>,\n",
       " 'EfficientNet_V2_L_Weights': <enum 'EfficientNet_V2_L_Weights'>,\n",
       " 'efficientnet_b0': <function torchvision.models.efficientnet.efficientnet_b0(*, weights: Optional[torchvision.models.efficientnet.EfficientNet_B0_Weights] = None, progress: bool = True, **kwargs: Any) -> torchvision.models.efficientnet.EfficientNet>,\n",
       " 'efficientnet_b1': <function torchvision.models.efficientnet.efficientnet_b1(*, weights: Optional[torchvision.models.efficientnet.EfficientNet_B1_Weights] = None, progress: bool = True, **kwargs: Any) -> torchvision.models.efficientnet.EfficientNet>,\n",
       " 'efficientnet_b2': <function torchvision.models.efficientnet.efficientnet_b2(*, weights: Optional[torchvision.models.efficientnet.EfficientNet_B2_Weights] = None, progress: bool = True, **kwargs: Any) -> torchvision.models.efficientnet.EfficientNet>,\n",
       " 'efficientnet_b3': <function torchvision.models.efficientnet.efficientnet_b3(*, weights: Optional[torchvision.models.efficientnet.EfficientNet_B3_Weights] = None, progress: bool = True, **kwargs: Any) -> torchvision.models.efficientnet.EfficientNet>,\n",
       " 'efficientnet_b4': <function torchvision.models.efficientnet.efficientnet_b4(*, weights: Optional[torchvision.models.efficientnet.EfficientNet_B4_Weights] = None, progress: bool = True, **kwargs: Any) -> torchvision.models.efficientnet.EfficientNet>,\n",
       " 'efficientnet_b5': <function torchvision.models.efficientnet.efficientnet_b5(*, weights: Optional[torchvision.models.efficientnet.EfficientNet_B5_Weights] = None, progress: bool = True, **kwargs: Any) -> torchvision.models.efficientnet.EfficientNet>,\n",
       " 'efficientnet_b6': <function torchvision.models.efficientnet.efficientnet_b6(*, weights: Optional[torchvision.models.efficientnet.EfficientNet_B6_Weights] = None, progress: bool = True, **kwargs: Any) -> torchvision.models.efficientnet.EfficientNet>,\n",
       " 'efficientnet_b7': <function torchvision.models.efficientnet.efficientnet_b7(*, weights: Optional[torchvision.models.efficientnet.EfficientNet_B7_Weights] = None, progress: bool = True, **kwargs: Any) -> torchvision.models.efficientnet.EfficientNet>,\n",
       " 'efficientnet_v2_s': <function torchvision.models.efficientnet.efficientnet_v2_s(*, weights: Optional[torchvision.models.efficientnet.EfficientNet_V2_S_Weights] = None, progress: bool = True, **kwargs: Any) -> torchvision.models.efficientnet.EfficientNet>,\n",
       " 'efficientnet_v2_m': <function torchvision.models.efficientnet.efficientnet_v2_m(*, weights: Optional[torchvision.models.efficientnet.EfficientNet_V2_M_Weights] = None, progress: bool = True, **kwargs: Any) -> torchvision.models.efficientnet.EfficientNet>,\n",
       " 'efficientnet_v2_l': <function torchvision.models.efficientnet.efficientnet_v2_l(*, weights: Optional[torchvision.models.efficientnet.EfficientNet_V2_L_Weights] = None, progress: bool = True, **kwargs: Any) -> torchvision.models.efficientnet.EfficientNet>,\n",
       " 'googlenet': <function torchvision.models.googlenet.googlenet(*, weights: Optional[torchvision.models.googlenet.GoogLeNet_Weights] = None, progress: bool = True, **kwargs: Any) -> torchvision.models.googlenet.GoogLeNet>,\n",
       " 'GoogLeNet': torchvision.models.googlenet.GoogLeNet,\n",
       " 'GoogLeNetOutputs': torchvision.models.googlenet.GoogLeNetOutputs,\n",
       " 'GoogLeNet_Weights': <enum 'GoogLeNet_Weights'>,\n",
       " 'Inception3': torchvision.models.inception.Inception3,\n",
       " 'InceptionOutputs': torchvision.models.inception.InceptionOutputs,\n",
       " 'Inception_V3_Weights': <enum 'Inception_V3_Weights'>,\n",
       " 'inception_v3': <function torchvision.models.inception.inception_v3(*, weights: Optional[torchvision.models.inception.Inception_V3_Weights] = None, progress: bool = True, **kwargs: Any) -> torchvision.models.inception.Inception3>,\n",
       " 'MNASNet': torchvision.models.mnasnet.MNASNet,\n",
       " 'MNASNet0_5_Weights': <enum 'MNASNet0_5_Weights'>,\n",
       " 'MNASNet0_75_Weights': <enum 'MNASNet0_75_Weights'>,\n",
       " 'MNASNet1_0_Weights': <enum 'MNASNet1_0_Weights'>,\n",
       " 'MNASNet1_3_Weights': <enum 'MNASNet1_3_Weights'>,\n",
       " 'mnasnet0_5': <function torchvision.models.mnasnet.mnasnet0_5(*, weights: Optional[torchvision.models.mnasnet.MNASNet0_5_Weights] = None, progress: bool = True, **kwargs: Any) -> torchvision.models.mnasnet.MNASNet>,\n",
       " 'mnasnet0_75': <function torchvision.models.mnasnet.mnasnet0_75(*, weights: Optional[torchvision.models.mnasnet.MNASNet0_75_Weights] = None, progress: bool = True, **kwargs: Any) -> torchvision.models.mnasnet.MNASNet>,\n",
       " 'mnasnet1_0': <function torchvision.models.mnasnet.mnasnet1_0(*, weights: Optional[torchvision.models.mnasnet.MNASNet1_0_Weights] = None, progress: bool = True, **kwargs: Any) -> torchvision.models.mnasnet.MNASNet>,\n",
       " 'mnasnet1_3': <function torchvision.models.mnasnet.mnasnet1_3(*, weights: Optional[torchvision.models.mnasnet.MNASNet1_3_Weights] = None, progress: bool = True, **kwargs: Any) -> torchvision.models.mnasnet.MNASNet>,\n",
       " 'MobileNetV2': torchvision.models.mobilenetv2.MobileNetV2,\n",
       " 'MobileNet_V2_Weights': <enum 'MobileNet_V2_Weights'>,\n",
       " 'mobilenet_v2': <function torchvision.models.mobilenetv2.mobilenet_v2(*, weights: Optional[torchvision.models.mobilenetv2.MobileNet_V2_Weights] = None, progress: bool = True, **kwargs: Any) -> torchvision.models.mobilenetv2.MobileNetV2>,\n",
       " 'MobileNetV3': torchvision.models.mobilenetv3.MobileNetV3,\n",
       " 'MobileNet_V3_Large_Weights': <enum 'MobileNet_V3_Large_Weights'>,\n",
       " 'MobileNet_V3_Small_Weights': <enum 'MobileNet_V3_Small_Weights'>,\n",
       " 'mobilenet_v3_large': <function torchvision.models.mobilenetv3.mobilenet_v3_large(*, weights: Optional[torchvision.models.mobilenetv3.MobileNet_V3_Large_Weights] = None, progress: bool = True, **kwargs: Any) -> torchvision.models.mobilenetv3.MobileNetV3>,\n",
       " 'mobilenet_v3_small': <function torchvision.models.mobilenetv3.mobilenet_v3_small(*, weights: Optional[torchvision.models.mobilenetv3.MobileNet_V3_Small_Weights] = None, progress: bool = True, **kwargs: Any) -> torchvision.models.mobilenetv3.MobileNetV3>,\n",
       " 'RegNet': torchvision.models.regnet.RegNet,\n",
       " 'RegNet_Y_400MF_Weights': <enum 'RegNet_Y_400MF_Weights'>,\n",
       " 'RegNet_Y_800MF_Weights': <enum 'RegNet_Y_800MF_Weights'>,\n",
       " 'RegNet_Y_1_6GF_Weights': <enum 'RegNet_Y_1_6GF_Weights'>,\n",
       " 'RegNet_Y_3_2GF_Weights': <enum 'RegNet_Y_3_2GF_Weights'>,\n",
       " 'RegNet_Y_8GF_Weights': <enum 'RegNet_Y_8GF_Weights'>,\n",
       " 'RegNet_Y_16GF_Weights': <enum 'RegNet_Y_16GF_Weights'>,\n",
       " 'RegNet_Y_32GF_Weights': <enum 'RegNet_Y_32GF_Weights'>,\n",
       " 'RegNet_Y_128GF_Weights': <enum 'RegNet_Y_128GF_Weights'>,\n",
       " 'RegNet_X_400MF_Weights': <enum 'RegNet_X_400MF_Weights'>,\n",
       " 'RegNet_X_800MF_Weights': <enum 'RegNet_X_800MF_Weights'>,\n",
       " 'RegNet_X_1_6GF_Weights': <enum 'RegNet_X_1_6GF_Weights'>,\n",
       " 'RegNet_X_3_2GF_Weights': <enum 'RegNet_X_3_2GF_Weights'>,\n",
       " 'RegNet_X_8GF_Weights': <enum 'RegNet_X_8GF_Weights'>,\n",
       " 'RegNet_X_16GF_Weights': <enum 'RegNet_X_16GF_Weights'>,\n",
       " 'RegNet_X_32GF_Weights': <enum 'RegNet_X_32GF_Weights'>,\n",
       " 'regnet_y_400mf': <function torchvision.models.regnet.regnet_y_400mf(*, weights: Optional[torchvision.models.regnet.RegNet_Y_400MF_Weights] = None, progress: bool = True, **kwargs: Any) -> torchvision.models.regnet.RegNet>,\n",
       " 'regnet_y_800mf': <function torchvision.models.regnet.regnet_y_800mf(*, weights: Optional[torchvision.models.regnet.RegNet_Y_800MF_Weights] = None, progress: bool = True, **kwargs: Any) -> torchvision.models.regnet.RegNet>,\n",
       " 'regnet_y_1_6gf': <function torchvision.models.regnet.regnet_y_1_6gf(*, weights: Optional[torchvision.models.regnet.RegNet_Y_1_6GF_Weights] = None, progress: bool = True, **kwargs: Any) -> torchvision.models.regnet.RegNet>,\n",
       " 'regnet_y_3_2gf': <function torchvision.models.regnet.regnet_y_3_2gf(*, weights: Optional[torchvision.models.regnet.RegNet_Y_3_2GF_Weights] = None, progress: bool = True, **kwargs: Any) -> torchvision.models.regnet.RegNet>,\n",
       " 'regnet_y_8gf': <function torchvision.models.regnet.regnet_y_8gf(*, weights: Optional[torchvision.models.regnet.RegNet_Y_8GF_Weights] = None, progress: bool = True, **kwargs: Any) -> torchvision.models.regnet.RegNet>,\n",
       " 'regnet_y_16gf': <function torchvision.models.regnet.regnet_y_16gf(*, weights: Optional[torchvision.models.regnet.RegNet_Y_16GF_Weights] = None, progress: bool = True, **kwargs: Any) -> torchvision.models.regnet.RegNet>,\n",
       " 'regnet_y_32gf': <function torchvision.models.regnet.regnet_y_32gf(*, weights: Optional[torchvision.models.regnet.RegNet_Y_32GF_Weights] = None, progress: bool = True, **kwargs: Any) -> torchvision.models.regnet.RegNet>,\n",
       " 'regnet_y_128gf': <function torchvision.models.regnet.regnet_y_128gf(*, weights: Optional[torchvision.models.regnet.RegNet_Y_128GF_Weights] = None, progress: bool = True, **kwargs: Any) -> torchvision.models.regnet.RegNet>,\n",
       " 'regnet_x_400mf': <function torchvision.models.regnet.regnet_x_400mf(*, weights: Optional[torchvision.models.regnet.RegNet_X_400MF_Weights] = None, progress: bool = True, **kwargs: Any) -> torchvision.models.regnet.RegNet>,\n",
       " 'regnet_x_800mf': <function torchvision.models.regnet.regnet_x_800mf(*, weights: Optional[torchvision.models.regnet.RegNet_X_800MF_Weights] = None, progress: bool = True, **kwargs: Any) -> torchvision.models.regnet.RegNet>,\n",
       " 'regnet_x_1_6gf': <function torchvision.models.regnet.regnet_x_1_6gf(*, weights: Optional[torchvision.models.regnet.RegNet_X_1_6GF_Weights] = None, progress: bool = True, **kwargs: Any) -> torchvision.models.regnet.RegNet>,\n",
       " 'regnet_x_3_2gf': <function torchvision.models.regnet.regnet_x_3_2gf(*, weights: Optional[torchvision.models.regnet.RegNet_X_3_2GF_Weights] = None, progress: bool = True, **kwargs: Any) -> torchvision.models.regnet.RegNet>,\n",
       " 'regnet_x_8gf': <function torchvision.models.regnet.regnet_x_8gf(*, weights: Optional[torchvision.models.regnet.RegNet_X_8GF_Weights] = None, progress: bool = True, **kwargs: Any) -> torchvision.models.regnet.RegNet>,\n",
       " 'regnet_x_16gf': <function torchvision.models.regnet.regnet_x_16gf(*, weights: Optional[torchvision.models.regnet.RegNet_X_16GF_Weights] = None, progress: bool = True, **kwargs: Any) -> torchvision.models.regnet.RegNet>,\n",
       " 'regnet_x_32gf': <function torchvision.models.regnet.regnet_x_32gf(*, weights: Optional[torchvision.models.regnet.RegNet_X_32GF_Weights] = None, progress: bool = True, **kwargs: Any) -> torchvision.models.regnet.RegNet>,\n",
       " 'ResNet': torchvision.models.resnet.ResNet,\n",
       " 'ResNet18_Weights': <enum 'ResNet18_Weights'>,\n",
       " 'ResNet34_Weights': <enum 'ResNet34_Weights'>,\n",
       " 'ResNet50_Weights': <enum 'ResNet50_Weights'>,\n",
       " 'ResNet101_Weights': <enum 'ResNet101_Weights'>,\n",
       " 'ResNet152_Weights': <enum 'ResNet152_Weights'>,\n",
       " 'ResNeXt50_32X4D_Weights': <enum 'ResNeXt50_32X4D_Weights'>,\n",
       " 'ResNeXt101_32X8D_Weights': <enum 'ResNeXt101_32X8D_Weights'>,\n",
       " 'ResNeXt101_64X4D_Weights': <enum 'ResNeXt101_64X4D_Weights'>,\n",
       " 'Wide_ResNet50_2_Weights': <enum 'Wide_ResNet50_2_Weights'>,\n",
       " 'Wide_ResNet101_2_Weights': <enum 'Wide_ResNet101_2_Weights'>,\n",
       " 'resnet18': <function torchvision.models.resnet.resnet18(*, weights: Optional[torchvision.models.resnet.ResNet18_Weights] = None, progress: bool = True, **kwargs: Any) -> torchvision.models.resnet.ResNet>,\n",
       " 'resnet34': <function torchvision.models.resnet.resnet34(*, weights: Optional[torchvision.models.resnet.ResNet34_Weights] = None, progress: bool = True, **kwargs: Any) -> torchvision.models.resnet.ResNet>,\n",
       " 'resnet50': <function torchvision.models.resnet.resnet50(*, weights: Optional[torchvision.models.resnet.ResNet50_Weights] = None, progress: bool = True, **kwargs: Any) -> torchvision.models.resnet.ResNet>,\n",
       " 'resnet101': <function torchvision.models.resnet.resnet101(*, weights: Optional[torchvision.models.resnet.ResNet101_Weights] = None, progress: bool = True, **kwargs: Any) -> torchvision.models.resnet.ResNet>,\n",
       " 'resnet152': <function torchvision.models.resnet.resnet152(*, weights: Optional[torchvision.models.resnet.ResNet152_Weights] = None, progress: bool = True, **kwargs: Any) -> torchvision.models.resnet.ResNet>,\n",
       " 'resnext50_32x4d': <function torchvision.models.resnet.resnext50_32x4d(*, weights: Optional[torchvision.models.resnet.ResNeXt50_32X4D_Weights] = None, progress: bool = True, **kwargs: Any) -> torchvision.models.resnet.ResNet>,\n",
       " 'resnext101_32x8d': <function torchvision.models.resnet.resnext101_32x8d(*, weights: Optional[torchvision.models.resnet.ResNeXt101_32X8D_Weights] = None, progress: bool = True, **kwargs: Any) -> torchvision.models.resnet.ResNet>,\n",
       " 'resnext101_64x4d': <function torchvision.models.resnet.resnext101_64x4d(*, weights: Optional[torchvision.models.resnet.ResNeXt101_64X4D_Weights] = None, progress: bool = True, **kwargs: Any) -> torchvision.models.resnet.ResNet>,\n",
       " 'wide_resnet50_2': <function torchvision.models.resnet.wide_resnet50_2(*, weights: Optional[torchvision.models.resnet.Wide_ResNet50_2_Weights] = None, progress: bool = True, **kwargs: Any) -> torchvision.models.resnet.ResNet>,\n",
       " 'wide_resnet101_2': <function torchvision.models.resnet.wide_resnet101_2(*, weights: Optional[torchvision.models.resnet.Wide_ResNet101_2_Weights] = None, progress: bool = True, **kwargs: Any) -> torchvision.models.resnet.ResNet>,\n",
       " 'ShuffleNetV2': torchvision.models.shufflenetv2.ShuffleNetV2,\n",
       " 'ShuffleNet_V2_X0_5_Weights': <enum 'ShuffleNet_V2_X0_5_Weights'>,\n",
       " 'ShuffleNet_V2_X1_0_Weights': <enum 'ShuffleNet_V2_X1_0_Weights'>,\n",
       " 'ShuffleNet_V2_X1_5_Weights': <enum 'ShuffleNet_V2_X1_5_Weights'>,\n",
       " 'ShuffleNet_V2_X2_0_Weights': <enum 'ShuffleNet_V2_X2_0_Weights'>,\n",
       " 'shufflenet_v2_x0_5': <function torchvision.models.shufflenetv2.shufflenet_v2_x0_5(*, weights: Optional[torchvision.models.shufflenetv2.ShuffleNet_V2_X0_5_Weights] = None, progress: bool = True, **kwargs: Any) -> torchvision.models.shufflenetv2.ShuffleNetV2>,\n",
       " 'shufflenet_v2_x1_0': <function torchvision.models.shufflenetv2.shufflenet_v2_x1_0(*, weights: Optional[torchvision.models.shufflenetv2.ShuffleNet_V2_X1_0_Weights] = None, progress: bool = True, **kwargs: Any) -> torchvision.models.shufflenetv2.ShuffleNetV2>,\n",
       " 'shufflenet_v2_x1_5': <function torchvision.models.shufflenetv2.shufflenet_v2_x1_5(*, weights: Optional[torchvision.models.shufflenetv2.ShuffleNet_V2_X1_5_Weights] = None, progress: bool = True, **kwargs: Any) -> torchvision.models.shufflenetv2.ShuffleNetV2>,\n",
       " 'shufflenet_v2_x2_0': <function torchvision.models.shufflenetv2.shufflenet_v2_x2_0(*, weights: Optional[torchvision.models.shufflenetv2.ShuffleNet_V2_X2_0_Weights] = None, progress: bool = True, **kwargs: Any) -> torchvision.models.shufflenetv2.ShuffleNetV2>,\n",
       " 'SqueezeNet': torchvision.models.squeezenet.SqueezeNet,\n",
       " 'SqueezeNet1_0_Weights': <enum 'SqueezeNet1_0_Weights'>,\n",
       " 'SqueezeNet1_1_Weights': <enum 'SqueezeNet1_1_Weights'>,\n",
       " 'squeezenet1_0': <function torchvision.models.squeezenet.squeezenet1_0(*, weights: Optional[torchvision.models.squeezenet.SqueezeNet1_0_Weights] = None, progress: bool = True, **kwargs: Any) -> torchvision.models.squeezenet.SqueezeNet>,\n",
       " 'squeezenet1_1': <function torchvision.models.squeezenet.squeezenet1_1(*, weights: Optional[torchvision.models.squeezenet.SqueezeNet1_1_Weights] = None, progress: bool = True, **kwargs: Any) -> torchvision.models.squeezenet.SqueezeNet>,\n",
       " 'VGG': torchvision.models.vgg.VGG,\n",
       " 'VGG11_Weights': <enum 'VGG11_Weights'>,\n",
       " 'VGG11_BN_Weights': <enum 'VGG11_BN_Weights'>,\n",
       " 'VGG13_Weights': <enum 'VGG13_Weights'>,\n",
       " 'VGG13_BN_Weights': <enum 'VGG13_BN_Weights'>,\n",
       " 'VGG16_Weights': <enum 'VGG16_Weights'>,\n",
       " 'VGG16_BN_Weights': <enum 'VGG16_BN_Weights'>,\n",
       " 'VGG19_Weights': <enum 'VGG19_Weights'>,\n",
       " 'VGG19_BN_Weights': <enum 'VGG19_BN_Weights'>,\n",
       " 'vgg11': <function torchvision.models.vgg.vgg11(*, weights: Optional[torchvision.models.vgg.VGG11_Weights] = None, progress: bool = True, **kwargs: Any) -> torchvision.models.vgg.VGG>,\n",
       " 'vgg11_bn': <function torchvision.models.vgg.vgg11_bn(*, weights: Optional[torchvision.models.vgg.VGG11_BN_Weights] = None, progress: bool = True, **kwargs: Any) -> torchvision.models.vgg.VGG>,\n",
       " 'vgg13': <function torchvision.models.vgg.vgg13(*, weights: Optional[torchvision.models.vgg.VGG13_Weights] = None, progress: bool = True, **kwargs: Any) -> torchvision.models.vgg.VGG>,\n",
       " 'vgg13_bn': <function torchvision.models.vgg.vgg13_bn(*, weights: Optional[torchvision.models.vgg.VGG13_BN_Weights] = None, progress: bool = True, **kwargs: Any) -> torchvision.models.vgg.VGG>,\n",
       " 'vgg16': <function torchvision.models.vgg.vgg16(*, weights: Optional[torchvision.models.vgg.VGG16_Weights] = None, progress: bool = True, **kwargs: Any) -> torchvision.models.vgg.VGG>,\n",
       " 'vgg16_bn': <function torchvision.models.vgg.vgg16_bn(*, weights: Optional[torchvision.models.vgg.VGG16_BN_Weights] = None, progress: bool = True, **kwargs: Any) -> torchvision.models.vgg.VGG>,\n",
       " 'vgg19': <function torchvision.models.vgg.vgg19(*, weights: Optional[torchvision.models.vgg.VGG19_Weights] = None, progress: bool = True, **kwargs: Any) -> torchvision.models.vgg.VGG>,\n",
       " 'vgg19_bn': <function torchvision.models.vgg.vgg19_bn(*, weights: Optional[torchvision.models.vgg.VGG19_BN_Weights] = None, progress: bool = True, **kwargs: Any) -> torchvision.models.vgg.VGG>,\n",
       " 'VisionTransformer': torchvision.models.vision_transformer.VisionTransformer,\n",
       " 'ViT_B_16_Weights': <enum 'ViT_B_16_Weights'>,\n",
       " 'ViT_B_32_Weights': <enum 'ViT_B_32_Weights'>,\n",
       " 'ViT_L_16_Weights': <enum 'ViT_L_16_Weights'>,\n",
       " 'ViT_L_32_Weights': <enum 'ViT_L_32_Weights'>,\n",
       " 'ViT_H_14_Weights': <enum 'ViT_H_14_Weights'>,\n",
       " 'vit_b_16': <function torchvision.models.vision_transformer.vit_b_16(*, weights: Optional[torchvision.models.vision_transformer.ViT_B_16_Weights] = None, progress: bool = True, **kwargs: Any) -> torchvision.models.vision_transformer.VisionTransformer>,\n",
       " 'vit_b_32': <function torchvision.models.vision_transformer.vit_b_32(*, weights: Optional[torchvision.models.vision_transformer.ViT_B_32_Weights] = None, progress: bool = True, **kwargs: Any) -> torchvision.models.vision_transformer.VisionTransformer>,\n",
       " 'vit_l_16': <function torchvision.models.vision_transformer.vit_l_16(*, weights: Optional[torchvision.models.vision_transformer.ViT_L_16_Weights] = None, progress: bool = True, **kwargs: Any) -> torchvision.models.vision_transformer.VisionTransformer>,\n",
       " 'vit_l_32': <function torchvision.models.vision_transformer.vit_l_32(*, weights: Optional[torchvision.models.vision_transformer.ViT_L_32_Weights] = None, progress: bool = True, **kwargs: Any) -> torchvision.models.vision_transformer.VisionTransformer>,\n",
       " 'vit_h_14': <function torchvision.models.vision_transformer.vit_h_14(*, weights: Optional[torchvision.models.vision_transformer.ViT_H_14_Weights] = None, progress: bool = True, **kwargs: Any) -> torchvision.models.vision_transformer.VisionTransformer>,\n",
       " 'SwinTransformer': torchvision.models.swin_transformer.SwinTransformer,\n",
       " 'Swin_T_Weights': <enum 'Swin_T_Weights'>,\n",
       " 'Swin_S_Weights': <enum 'Swin_S_Weights'>,\n",
       " 'Swin_B_Weights': <enum 'Swin_B_Weights'>,\n",
       " 'swin_t': <function torchvision.models.swin_transformer.swin_t(*, weights: Optional[torchvision.models.swin_transformer.Swin_T_Weights] = None, progress: bool = True, **kwargs: Any) -> torchvision.models.swin_transformer.SwinTransformer>,\n",
       " 'swin_s': <function torchvision.models.swin_transformer.swin_s(*, weights: Optional[torchvision.models.swin_transformer.Swin_S_Weights] = None, progress: bool = True, **kwargs: Any) -> torchvision.models.swin_transformer.SwinTransformer>,\n",
       " 'swin_b': <function torchvision.models.swin_transformer.swin_b(*, weights: Optional[torchvision.models.swin_transformer.Swin_B_Weights] = None, progress: bool = True, **kwargs: Any) -> torchvision.models.swin_transformer.SwinTransformer>,\n",
       " 'all': <module 'fastai.vision.models.all' from 'C:\\\\Users\\\\jandr\\\\anaconda3\\\\lib\\\\site-packages\\\\fastai\\\\vision\\\\models\\\\all.py'>}"
      ]
     },
     "execution_count": 35,
     "metadata": {},
     "output_type": "execute_result"
    }
   ],
   "source": [
    "from fastai.vision import models\n",
    "vars(models)"
   ]
  },
  {
   "cell_type": "markdown",
   "metadata": {},
   "source": [
    "# Data Exploration + Preprocessing"
   ]
  },
  {
   "cell_type": "markdown",
   "metadata": {},
   "source": [
    "### Load the Data"
   ]
  },
  {
   "cell_type": "code",
   "execution_count": 2,
   "metadata": {},
   "outputs": [
    {
     "data": {
      "text/plain": [
       "(#4) [5216,16,624,5232]"
      ]
     },
     "execution_count": 2,
     "metadata": {},
     "output_type": "execute_result"
    }
   ],
   "source": [
    "# Gets file names for training, validation, and testing\n",
    "train_fnames = get_image_files(r\"C:\\Users\\jandr\\Github Repos\\aBennecke\\CS226_Final_Project\\chest_xray\\train\")\n",
    "val_fnames = get_image_files(r\"C:\\Users\\jandr\\Github Repos\\aBennecke\\CS226_Final_Project\\chest_xray\\val\")\n",
    "test_fnames = get_image_files(r\"C:\\Users\\jandr\\Github Repos\\aBennecke\\CS226_Final_Project\\chest_xray\\test\")\n",
    "\n",
    "# Combine training and validation into training\n",
    "all_files = train_fnames + val_fnames\n",
    "\n",
    "# Shows the amount of images in each folder (train, val, test, all), respectively\n",
    "L(train_fnames, val_fnames, test_fnames, all_files).map(len)"
   ]
  },
  {
   "cell_type": "markdown",
   "metadata": {},
   "source": [
    "### Show Class Imbalance"
   ]
  },
  {
   "cell_type": "code",
   "execution_count": 3,
   "metadata": {},
   "outputs": [
    {
     "data": {
      "image/png": "[encoded data removed]",
      "text/plain": [
       "<Figure size 432x288 with 1 Axes>"
      ]
     },
     "metadata": {
      "needs_background": "light"
     },
     "output_type": "display_data"
    }
   ],
   "source": [
    "# Get total num of images classified as \"healthy\"\n",
    "healthy_train = get_image_files(r\"C:\\Users\\jandr\\Github Repos\\aBennecke\\CS226_Final_Project\\chest_xray\\train\\NORMAL\")\n",
    "healthy_val   = get_image_files(r\"C:\\Users\\jandr\\Github Repos\\aBennecke\\CS226_Final_Project\\chest_xray\\val\\NORMAL\")\n",
    "healthy_test  = get_image_files(r\"C:\\Users\\jandr\\Github Repos\\aBennecke\\CS226_Final_Project\\chest_xray\\test\\NORMAL\")\n",
    "\n",
    "tot_healthy = len(healthy_train)+len(healthy_val)+len(healthy_test)\n",
    "\n",
    "# Get total num of images classified as \"pneumonia\"\n",
    "pneu_train = get_image_files(r\"C:\\Users\\jandr\\Github Repos\\aBennecke\\CS226_Final_Project\\chest_xray\\train\\PNEUMONIA\")\n",
    "pneu_val   = get_image_files(r\"C:\\Users\\jandr\\Github Repos\\aBennecke\\CS226_Final_Project\\chest_xray\\val\\PNEUMONIA\")\n",
    "pneu_test  = get_image_files(r\"C:\\Users\\jandr\\Github Repos\\aBennecke\\CS226_Final_Project\\chest_xray\\test\\PNEUMONIA\")\n",
    "\n",
    "tot_pneu = len(pneu_train)+len(pneu_val)+len(pneu_test)\n",
    "\n",
    "# Bar plot amounts from each class\n",
    "plt.bar([\"Healthy\",\"Pneumonia\"],[tot_healthy,tot_pneu])\n",
    "plt.title(\"Class Imbalance\")\n",
    "plt.xlabel(\"Class Label\")\n",
    "plt.ylabel(\"Number of occurrences\");"
   ]
  },
  {
   "cell_type": "markdown",
   "metadata": {},
   "source": [
    "### DataBlock and DataLoaders"
   ]
  },
  {
   "cell_type": "code",
   "execution_count": 14,
   "metadata": {},
   "outputs": [],
   "source": [
    "# Loads all the data, so that we can do some preprocessing\n",
    "\n",
    "path = Path(r\"C:\\Users\\jandr\\Github Repos\\aBennecke\\CS226_Final_Project\\chest_xray\\train\")\n",
    "\n",
    "# Container to build the DataLoader\n",
    "dblock = DataBlock(blocks=(ImageBlock(cls=PILImage), CategoryBlock),\n",
    "                   get_items = get_image_files,\n",
    "                   splitter=RandomSplitter(valid_pct=0.2, seed=42),\n",
    "                   get_y=parent_label,\n",
    "                   item_tfms=Resize(512, method=\"squish\"),\n",
    "                   )\n",
    "\n",
    "# Load the data into a DataLoader() specified by the above DataBlock()\n",
    "dls = dblock.dataloaders(path)"
   ]
  },
  {
   "cell_type": "code",
   "execution_count": 15,
   "metadata": {},
   "outputs": [
    {
     "name": "stdout",
     "output_type": "stream",
     "text": [
      "Size of training ds:\t4173\n",
      "Size of valid ds:\t1043\n"
     ]
    }
   ],
   "source": [
    "print(f\"Size of training ds:\\t{len(dls.train_ds)}\")\n",
    "print(f\"Size of valid ds:\\t{len(dls.valid_ds)}\")"
   ]
  },
  {
   "cell_type": "markdown",
   "metadata": {},
   "source": [
    "# Pretrained Model 1: resnet18"
   ]
  },
  {
   "cell_type": "markdown",
   "metadata": {},
   "source": [
    "### Transfer Learning and Pretrained Models"
   ]
  },
  {
   "cell_type": "code",
   "execution_count": 16,
   "metadata": {},
   "outputs": [
    {
     "data": {
      "text/html": [
       "\n",
       "<style>\n",
       "    /* Turns off some styling */\n",
       "    progress {\n",
       "        /* gets rid of default border in Firefox and Opera. */\n",
       "        border: none;\n",
       "        /* Needs to be in here for Safari polyfill so background images work as expected. */\n",
       "        background-size: auto;\n",
       "    }\n",
       "    progress:not([value]), progress:not([value])::-webkit-progress-bar {\n",
       "        background: repeating-linear-gradient(45deg, #7e7e7e, #7e7e7e 10px, #5c5c5c 10px, #5c5c5c 20px);\n",
       "    }\n",
       "    .progress-bar-interrupted, .progress-bar-interrupted::-webkit-progress-bar {\n",
       "        background: #F44336;\n",
       "    }\n",
       "</style>\n"
      ],
      "text/plain": [
       "<IPython.core.display.HTML object>"
      ]
     },
     "metadata": {},
     "output_type": "display_data"
    },
    {
     "data": {
      "text/html": [],
      "text/plain": [
       "<IPython.core.display.HTML object>"
      ]
     },
     "metadata": {},
     "output_type": "display_data"
    },
    {
     "data": {
      "text/plain": [
       "SuggestedLRs(valley=0.0014454397605732083)"
      ]
     },
     "execution_count": 16,
     "metadata": {},
     "output_type": "execute_result"
    },
    {
     "data": {
      "image/png": "[encoded data removed]",
      "text/plain": [
       "<Figure size 432x288 with 1 Axes>"
      ]
     },
     "metadata": {
      "needs_background": "light"
     },
     "output_type": "display_data"
    }
   ],
   "source": [
    "# Define metrics for evaluation\n",
    "metrics = [accuracy, F1Score(), Precision(), Recall()]\n",
    "\n",
    "# Construct the transfer learning model\n",
    "rn18_learn = vision_learner(dls, resnet18, loss_func=CrossEntropyLossFlat(), metrics=metrics)\n",
    "\n",
    "# Find the optimal learning rate\n",
    "rn18_learn.lr_find()"
   ]
  },
  {
   "cell_type": "code",
   "execution_count": 17,
   "metadata": {},
   "outputs": [
    {
     "data": {
      "text/html": [
       "\n",
       "<style>\n",
       "    /* Turns off some styling */\n",
       "    progress {\n",
       "        /* gets rid of default border in Firefox and Opera. */\n",
       "        border: none;\n",
       "        /* Needs to be in here for Safari polyfill so background images work as expected. */\n",
       "        background-size: auto;\n",
       "    }\n",
       "    progress:not([value]), progress:not([value])::-webkit-progress-bar {\n",
       "        background: repeating-linear-gradient(45deg, #7e7e7e, #7e7e7e 10px, #5c5c5c 10px, #5c5c5c 20px);\n",
       "    }\n",
       "    .progress-bar-interrupted, .progress-bar-interrupted::-webkit-progress-bar {\n",
       "        background: #F44336;\n",
       "    }\n",
       "</style>\n"
      ],
      "text/plain": [
       "<IPython.core.display.HTML object>"
      ]
     },
     "metadata": {},
     "output_type": "display_data"
    },
    {
     "data": {
      "text/html": [
       "<table border=\"1\" class=\"dataframe\">\n",
       "  <thead>\n",
       "    <tr style=\"text-align: left;\">\n",
       "      <th>epoch</th>\n",
       "      <th>train_loss</th>\n",
       "      <th>valid_loss</th>\n",
       "      <th>accuracy</th>\n",
       "      <th>f1_score</th>\n",
       "      <th>precision_score</th>\n",
       "      <th>recall_score</th>\n",
       "      <th>time</th>\n",
       "    </tr>\n",
       "  </thead>\n",
       "  <tbody>\n",
       "    <tr>\n",
       "      <td>0</td>\n",
       "      <td>0.482922</td>\n",
       "      <td>0.374002</td>\n",
       "      <td>0.909875</td>\n",
       "      <td>0.935705</td>\n",
       "      <td>0.994186</td>\n",
       "      <td>0.883721</td>\n",
       "      <td>29:18</td>\n",
       "    </tr>\n",
       "  </tbody>\n",
       "</table>"
      ],
      "text/plain": [
       "<IPython.core.display.HTML object>"
      ]
     },
     "metadata": {},
     "output_type": "display_data"
    },
    {
     "data": {
      "text/html": [
       "\n",
       "<style>\n",
       "    /* Turns off some styling */\n",
       "    progress {\n",
       "        /* gets rid of default border in Firefox and Opera. */\n",
       "        border: none;\n",
       "        /* Needs to be in here for Safari polyfill so background images work as expected. */\n",
       "        background-size: auto;\n",
       "    }\n",
       "    progress:not([value]), progress:not([value])::-webkit-progress-bar {\n",
       "        background: repeating-linear-gradient(45deg, #7e7e7e, #7e7e7e 10px, #5c5c5c 10px, #5c5c5c 20px);\n",
       "    }\n",
       "    .progress-bar-interrupted, .progress-bar-interrupted::-webkit-progress-bar {\n",
       "        background: #F44336;\n",
       "    }\n",
       "</style>\n"
      ],
      "text/plain": [
       "<IPython.core.display.HTML object>"
      ]
     },
     "metadata": {},
     "output_type": "display_data"
    },
    {
     "data": {
      "text/html": [
       "<table border=\"1\" class=\"dataframe\">\n",
       "  <thead>\n",
       "    <tr style=\"text-align: left;\">\n",
       "      <th>epoch</th>\n",
       "      <th>train_loss</th>\n",
       "      <th>valid_loss</th>\n",
       "      <th>accuracy</th>\n",
       "      <th>f1_score</th>\n",
       "      <th>precision_score</th>\n",
       "      <th>recall_score</th>\n",
       "      <th>time</th>\n",
       "    </tr>\n",
       "  </thead>\n",
       "  <tbody>\n",
       "    <tr>\n",
       "      <td>0</td>\n",
       "      <td>0.146605</td>\n",
       "      <td>0.164488</td>\n",
       "      <td>0.963567</td>\n",
       "      <td>0.975033</td>\n",
       "      <td>0.991979</td>\n",
       "      <td>0.958656</td>\n",
       "      <td>37:18</td>\n",
       "    </tr>\n",
       "    <tr>\n",
       "      <td>1</td>\n",
       "      <td>0.072263</td>\n",
       "      <td>0.105159</td>\n",
       "      <td>0.975072</td>\n",
       "      <td>0.983182</td>\n",
       "      <td>0.984456</td>\n",
       "      <td>0.981912</td>\n",
       "      <td>36:35</td>\n",
       "    </tr>\n",
       "    <tr>\n",
       "      <td>2</td>\n",
       "      <td>0.032361</td>\n",
       "      <td>0.118630</td>\n",
       "      <td>0.976031</td>\n",
       "      <td>0.983692</td>\n",
       "      <td>0.993412</td>\n",
       "      <td>0.974160</td>\n",
       "      <td>35:40</td>\n",
       "    </tr>\n",
       "    <tr>\n",
       "      <td>3</td>\n",
       "      <td>0.017614</td>\n",
       "      <td>0.084468</td>\n",
       "      <td>0.984660</td>\n",
       "      <td>0.989583</td>\n",
       "      <td>0.997375</td>\n",
       "      <td>0.981912</td>\n",
       "      <td>35:54</td>\n",
       "    </tr>\n",
       "    <tr>\n",
       "      <td>4</td>\n",
       "      <td>0.010362</td>\n",
       "      <td>0.082689</td>\n",
       "      <td>0.984660</td>\n",
       "      <td>0.989583</td>\n",
       "      <td>0.997375</td>\n",
       "      <td>0.981912</td>\n",
       "      <td>35:59</td>\n",
       "    </tr>\n",
       "  </tbody>\n",
       "</table>"
      ],
      "text/plain": [
       "<IPython.core.display.HTML object>"
      ]
     },
     "metadata": {},
     "output_type": "display_data"
    }
   ],
   "source": [
    "# Fit the pretrained model to our new data\n",
    "rn18_learn.fine_tune(5,base_lr=1.4e-3)"
   ]
  },
  {
   "cell_type": "markdown",
   "metadata": {},
   "source": [
    "### Model Interpretation"
   ]
  },
  {
   "cell_type": "code",
   "execution_count": 18,
   "metadata": {},
   "outputs": [
    {
     "data": {
      "text/html": [
       "\n",
       "<style>\n",
       "    /* Turns off some styling */\n",
       "    progress {\n",
       "        /* gets rid of default border in Firefox and Opera. */\n",
       "        border: none;\n",
       "        /* Needs to be in here for Safari polyfill so background images work as expected. */\n",
       "        background-size: auto;\n",
       "    }\n",
       "    progress:not([value]), progress:not([value])::-webkit-progress-bar {\n",
       "        background: repeating-linear-gradient(45deg, #7e7e7e, #7e7e7e 10px, #5c5c5c 10px, #5c5c5c 20px);\n",
       "    }\n",
       "    .progress-bar-interrupted, .progress-bar-interrupted::-webkit-progress-bar {\n",
       "        background: #F44336;\n",
       "    }\n",
       "</style>\n"
      ],
      "text/plain": [
       "<IPython.core.display.HTML object>"
      ]
     },
     "metadata": {},
     "output_type": "display_data"
    },
    {
     "data": {
      "text/html": [],
      "text/plain": [
       "<IPython.core.display.HTML object>"
      ]
     },
     "metadata": {},
     "output_type": "display_data"
    },
    {
     "data": {
      "text/html": [
       "\n",
       "<style>\n",
       "    /* Turns off some styling */\n",
       "    progress {\n",
       "        /* gets rid of default border in Firefox and Opera. */\n",
       "        border: none;\n",
       "        /* Needs to be in here for Safari polyfill so background images work as expected. */\n",
       "        background-size: auto;\n",
       "    }\n",
       "    progress:not([value]), progress:not([value])::-webkit-progress-bar {\n",
       "        background: repeating-linear-gradient(45deg, #7e7e7e, #7e7e7e 10px, #5c5c5c 10px, #5c5c5c 20px);\n",
       "    }\n",
       "    .progress-bar-interrupted, .progress-bar-interrupted::-webkit-progress-bar {\n",
       "        background: #F44336;\n",
       "    }\n",
       "</style>\n"
      ],
      "text/plain": [
       "<IPython.core.display.HTML object>"
      ]
     },
     "metadata": {},
     "output_type": "display_data"
    },
    {
     "data": {
      "text/html": [],
      "text/plain": [
       "<IPython.core.display.HTML object>"
      ]
     },
     "metadata": {},
     "output_type": "display_data"
    },
    {
     "data": {
      "image/png": "[encoded data removed]",
      "text/plain": [
       "<Figure size 432x288 with 1 Axes>"
      ]
     },
     "metadata": {
      "needs_background": "light"
     },
     "output_type": "display_data"
    }
   ],
   "source": [
    "rn18_interp = ClassificationInterpretation.from_learner(rn18_learn)\n",
    "rn18_interp.plot_confusion_matrix()"
   ]
  },
  {
   "cell_type": "code",
   "execution_count": 19,
   "metadata": {},
   "outputs": [
    {
     "data": {
      "text/html": [
       "\n",
       "<style>\n",
       "    /* Turns off some styling */\n",
       "    progress {\n",
       "        /* gets rid of default border in Firefox and Opera. */\n",
       "        border: none;\n",
       "        /* Needs to be in here for Safari polyfill so background images work as expected. */\n",
       "        background-size: auto;\n",
       "    }\n",
       "    progress:not([value]), progress:not([value])::-webkit-progress-bar {\n",
       "        background: repeating-linear-gradient(45deg, #7e7e7e, #7e7e7e 10px, #5c5c5c 10px, #5c5c5c 20px);\n",
       "    }\n",
       "    .progress-bar-interrupted, .progress-bar-interrupted::-webkit-progress-bar {\n",
       "        background: #F44336;\n",
       "    }\n",
       "</style>\n"
      ],
      "text/plain": [
       "<IPython.core.display.HTML object>"
      ]
     },
     "metadata": {},
     "output_type": "display_data"
    },
    {
     "data": {
      "text/html": [],
      "text/plain": [
       "<IPython.core.display.HTML object>"
      ]
     },
     "metadata": {},
     "output_type": "display_data"
    },
    {
     "name": "stdout",
     "output_type": "stream",
     "text": [
      "              precision    recall  f1-score   support\n",
      "\n",
      "      NORMAL       0.95      0.99      0.97       269\n",
      "   PNEUMONIA       1.00      0.98      0.99       774\n",
      "\n",
      "    accuracy                           0.98      1043\n",
      "   macro avg       0.97      0.99      0.98      1043\n",
      "weighted avg       0.99      0.98      0.98      1043\n",
      "\n"
     ]
    }
   ],
   "source": [
    "rn18_interp.print_classification_report()"
   ]
  },
  {
   "cell_type": "markdown",
   "metadata": {},
   "source": [
    "### Model Validation"
   ]
  },
  {
   "cell_type": "code",
   "execution_count": 20,
   "metadata": {},
   "outputs": [
    {
     "data": {
      "text/html": [
       "\n",
       "<style>\n",
       "    /* Turns off some styling */\n",
       "    progress {\n",
       "        /* gets rid of default border in Firefox and Opera. */\n",
       "        border: none;\n",
       "        /* Needs to be in here for Safari polyfill so background images work as expected. */\n",
       "        background-size: auto;\n",
       "    }\n",
       "    progress:not([value]), progress:not([value])::-webkit-progress-bar {\n",
       "        background: repeating-linear-gradient(45deg, #7e7e7e, #7e7e7e 10px, #5c5c5c 10px, #5c5c5c 20px);\n",
       "    }\n",
       "    .progress-bar-interrupted, .progress-bar-interrupted::-webkit-progress-bar {\n",
       "        background: #F44336;\n",
       "    }\n",
       "</style>\n"
      ],
      "text/plain": [
       "<IPython.core.display.HTML object>"
      ]
     },
     "metadata": {},
     "output_type": "display_data"
    },
    {
     "data": {
      "text/html": [],
      "text/plain": [
       "<IPython.core.display.HTML object>"
      ]
     },
     "metadata": {},
     "output_type": "display_data"
    }
   ],
   "source": [
    "rn18_res = rn18_learn.validate()"
   ]
  },
  {
   "cell_type": "code",
   "execution_count": 48,
   "metadata": {},
   "outputs": [
    {
     "data": {
      "text/plain": [
       "(#5) [0.08268925547599792,0.9846596121788025,0.9895833333333334,0.9973753280839895,0.9819121447028424]"
      ]
     },
     "execution_count": 48,
     "metadata": {},
     "output_type": "execute_result"
    }
   ],
   "source": [
    "rn18_res"
   ]
  },
  {
   "cell_type": "markdown",
   "metadata": {},
   "source": [
    "# Pretrained Model 2: vgg16_bn"
   ]
  },
  {
   "cell_type": "markdown",
   "metadata": {},
   "source": [
    "### Transfer Learning and Pretrained Models"
   ]
  },
  {
   "cell_type": "code",
   "execution_count": 59,
   "metadata": {
    "scrolled": false
   },
   "outputs": [
    {
     "name": "stderr",
     "output_type": "stream",
     "text": [
      "C:\\Users\\jandr\\anaconda3\\lib\\site-packages\\torchvision\\models\\_utils.py:223: UserWarning: Arguments other than a weight enum or `None` for 'weights' are deprecated since 0.13 and will be removed in 0.15. The current behavior is equivalent to passing `weights=GoogLeNet_Weights.IMAGENET1K_V1`. You can also use `weights=GoogLeNet_Weights.DEFAULT` to get the most up-to-date weights.\n",
      "  warnings.warn(msg)\n",
      "Downloading: \"https://download.pytorch.org/models/googlenet-1378be20.pth\" to C:\\Users\\jandr/.cache\\torch\\hub\\checkpoints\\googlenet-1378be20.pth\n"
     ]
    },
    {
     "data": {
      "application/vnd.jupyter.widget-view+json": {
       "model_id": "b849fb5b537e43bea3c9f4dcaa74ed99",
       "version_major": 2,
       "version_minor": 0
      },
      "text/plain": [
       "  0%|          | 0.00/49.7M [00:00<?, ?B/s]"
      ]
     },
     "metadata": {},
     "output_type": "display_data"
    },
    {
     "data": {
      "text/html": [
       "\n",
       "<style>\n",
       "    /* Turns off some styling */\n",
       "    progress {\n",
       "        /* gets rid of default border in Firefox and Opera. */\n",
       "        border: none;\n",
       "        /* Needs to be in here for Safari polyfill so background images work as expected. */\n",
       "        background-size: auto;\n",
       "    }\n",
       "    progress:not([value]), progress:not([value])::-webkit-progress-bar {\n",
       "        background: repeating-linear-gradient(45deg, #7e7e7e, #7e7e7e 10px, #5c5c5c 10px, #5c5c5c 20px);\n",
       "    }\n",
       "    .progress-bar-interrupted, .progress-bar-interrupted::-webkit-progress-bar {\n",
       "        background: #F44336;\n",
       "    }\n",
       "</style>\n"
      ],
      "text/plain": [
       "<IPython.core.display.HTML object>"
      ]
     },
     "metadata": {},
     "output_type": "display_data"
    },
    {
     "data": {
      "text/html": [],
      "text/plain": [
       "<IPython.core.display.HTML object>"
      ]
     },
     "metadata": {},
     "output_type": "display_data"
    },
    {
     "data": {
      "text/plain": [
       "SuggestedLRs(valley=0.0008317637839354575)"
      ]
     },
     "execution_count": 59,
     "metadata": {},
     "output_type": "execute_result"
    },
    {
     "data": {
      "image/png": "[encoded data removed]",
      "text/plain": [
       "<Figure size 432x288 with 1 Axes>"
      ]
     },
     "metadata": {
      "needs_background": "light"
     },
     "output_type": "display_data"
    }
   ],
   "source": [
    "# Define metrics for evaluation\n",
    "metrics = [accuracy, F1Score(), Precision(), Recall()]\n",
    "\n",
    "# Construct the transfer learning model\n",
    "gn_learn = vision_learner(dls, googlenet, loss_func=CrossEntropyLossFlat(), metrics=metrics)\n",
    "\n",
    "# Find the optimal learning rate\n",
    "gn_learn.lr_find()"
   ]
  },
  {
   "cell_type": "code",
   "execution_count": null,
   "metadata": {},
   "outputs": [],
   "source": [
    "# Fit the pretrained model to our new data\n",
    "lr_from_lr_find = 8.3e-4\n",
    "gn_learn.fine_tune(3,base_lr=lr_from_lr_find)"
   ]
  },
  {
   "cell_type": "markdown",
   "metadata": {},
   "source": [
    "### Model Interpretation"
   ]
  },
  {
   "cell_type": "code",
   "execution_count": null,
   "metadata": {},
   "outputs": [],
   "source": []
  },
  {
   "cell_type": "code",
   "execution_count": null,
   "metadata": {},
   "outputs": [],
   "source": []
  },
  {
   "cell_type": "code",
   "execution_count": null,
   "metadata": {},
   "outputs": [],
   "source": []
  },
  {
   "cell_type": "markdown",
   "metadata": {},
   "source": [
    "# Pretrained Model 3: alexnet"
   ]
  },
  {
   "cell_type": "markdown",
   "metadata": {},
   "source": [
    "### Transfer Learning and Pretrained Models"
   ]
  },
  {
   "cell_type": "code",
   "execution_count": 53,
   "metadata": {},
   "outputs": [
    {
     "data": {
      "text/html": [
       "\n",
       "<style>\n",
       "    /* Turns off some styling */\n",
       "    progress {\n",
       "        /* gets rid of default border in Firefox and Opera. */\n",
       "        border: none;\n",
       "        /* Needs to be in here for Safari polyfill so background images work as expected. */\n",
       "        background-size: auto;\n",
       "    }\n",
       "    progress:not([value]), progress:not([value])::-webkit-progress-bar {\n",
       "        background: repeating-linear-gradient(45deg, #7e7e7e, #7e7e7e 10px, #5c5c5c 10px, #5c5c5c 20px);\n",
       "    }\n",
       "    .progress-bar-interrupted, .progress-bar-interrupted::-webkit-progress-bar {\n",
       "        background: #F44336;\n",
       "    }\n",
       "</style>\n"
      ],
      "text/plain": [
       "<IPython.core.display.HTML object>"
      ]
     },
     "metadata": {},
     "output_type": "display_data"
    },
    {
     "data": {
      "text/html": [],
      "text/plain": [
       "<IPython.core.display.HTML object>"
      ]
     },
     "metadata": {},
     "output_type": "display_data"
    },
    {
     "data": {
      "text/plain": [
       "SuggestedLRs(valley=0.0012022644514217973)"
      ]
     },
     "execution_count": 53,
     "metadata": {},
     "output_type": "execute_result"
    },
    {
     "data": {
      "image/png": "[encoded data removed]",
      "text/plain": [
       "<Figure size 432x288 with 1 Axes>"
      ]
     },
     "metadata": {
      "needs_background": "light"
     },
     "output_type": "display_data"
    }
   ],
   "source": [
    "# Define metrics for evaluation\n",
    "metrics = [accuracy, F1Score(), Precision(), Recall()]\n",
    "\n",
    "# Construct the transfer learning model\n",
    "an_learn = vision_learner(dls, alexnet, loss_func=CrossEntropyLossFlat(), metrics=metrics)\n",
    "\n",
    "# Find the optimal learning rate\n",
    "an_learn.lr_find()"
   ]
  },
  {
   "cell_type": "code",
   "execution_count": 54,
   "metadata": {},
   "outputs": [
    {
     "data": {
      "text/html": [
       "\n",
       "<style>\n",
       "    /* Turns off some styling */\n",
       "    progress {\n",
       "        /* gets rid of default border in Firefox and Opera. */\n",
       "        border: none;\n",
       "        /* Needs to be in here for Safari polyfill so background images work as expected. */\n",
       "        background-size: auto;\n",
       "    }\n",
       "    progress:not([value]), progress:not([value])::-webkit-progress-bar {\n",
       "        background: repeating-linear-gradient(45deg, #7e7e7e, #7e7e7e 10px, #5c5c5c 10px, #5c5c5c 20px);\n",
       "    }\n",
       "    .progress-bar-interrupted, .progress-bar-interrupted::-webkit-progress-bar {\n",
       "        background: #F44336;\n",
       "    }\n",
       "</style>\n"
      ],
      "text/plain": [
       "<IPython.core.display.HTML object>"
      ]
     },
     "metadata": {},
     "output_type": "display_data"
    },
    {
     "data": {
      "text/html": [
       "<table border=\"1\" class=\"dataframe\">\n",
       "  <thead>\n",
       "    <tr style=\"text-align: left;\">\n",
       "      <th>epoch</th>\n",
       "      <th>train_loss</th>\n",
       "      <th>valid_loss</th>\n",
       "      <th>accuracy</th>\n",
       "      <th>f1_score</th>\n",
       "      <th>precision_score</th>\n",
       "      <th>recall_score</th>\n",
       "      <th>time</th>\n",
       "    </tr>\n",
       "  </thead>\n",
       "  <tbody>\n",
       "    <tr>\n",
       "      <td>0</td>\n",
       "      <td>0.535998</td>\n",
       "      <td>0.180692</td>\n",
       "      <td>0.942474</td>\n",
       "      <td>0.959947</td>\n",
       "      <td>0.993094</td>\n",
       "      <td>0.928941</td>\n",
       "      <td>05:57</td>\n",
       "    </tr>\n",
       "  </tbody>\n",
       "</table>"
      ],
      "text/plain": [
       "<IPython.core.display.HTML object>"
      ]
     },
     "metadata": {},
     "output_type": "display_data"
    },
    {
     "data": {
      "text/html": [
       "\n",
       "<style>\n",
       "    /* Turns off some styling */\n",
       "    progress {\n",
       "        /* gets rid of default border in Firefox and Opera. */\n",
       "        border: none;\n",
       "        /* Needs to be in here for Safari polyfill so background images work as expected. */\n",
       "        background-size: auto;\n",
       "    }\n",
       "    progress:not([value]), progress:not([value])::-webkit-progress-bar {\n",
       "        background: repeating-linear-gradient(45deg, #7e7e7e, #7e7e7e 10px, #5c5c5c 10px, #5c5c5c 20px);\n",
       "    }\n",
       "    .progress-bar-interrupted, .progress-bar-interrupted::-webkit-progress-bar {\n",
       "        background: #F44336;\n",
       "    }\n",
       "</style>\n"
      ],
      "text/plain": [
       "<IPython.core.display.HTML object>"
      ]
     },
     "metadata": {},
     "output_type": "display_data"
    },
    {
     "data": {
      "text/html": [
       "<table border=\"1\" class=\"dataframe\">\n",
       "  <thead>\n",
       "    <tr style=\"text-align: left;\">\n",
       "      <th>epoch</th>\n",
       "      <th>train_loss</th>\n",
       "      <th>valid_loss</th>\n",
       "      <th>accuracy</th>\n",
       "      <th>f1_score</th>\n",
       "      <th>precision_score</th>\n",
       "      <th>recall_score</th>\n",
       "      <th>time</th>\n",
       "    </tr>\n",
       "  </thead>\n",
       "  <tbody>\n",
       "    <tr>\n",
       "      <td>0</td>\n",
       "      <td>0.192868</td>\n",
       "      <td>0.119489</td>\n",
       "      <td>0.963567</td>\n",
       "      <td>0.975131</td>\n",
       "      <td>0.988064</td>\n",
       "      <td>0.962532</td>\n",
       "      <td>11:08</td>\n",
       "    </tr>\n",
       "    <tr>\n",
       "      <td>1</td>\n",
       "      <td>0.129113</td>\n",
       "      <td>0.079051</td>\n",
       "      <td>0.975072</td>\n",
       "      <td>0.983139</td>\n",
       "      <td>0.986979</td>\n",
       "      <td>0.979328</td>\n",
       "      <td>11:07</td>\n",
       "    </tr>\n",
       "    <tr>\n",
       "      <td>2</td>\n",
       "      <td>0.072321</td>\n",
       "      <td>0.085113</td>\n",
       "      <td>0.973154</td>\n",
       "      <td>0.981771</td>\n",
       "      <td>0.989501</td>\n",
       "      <td>0.974160</td>\n",
       "      <td>11:05</td>\n",
       "    </tr>\n",
       "  </tbody>\n",
       "</table>"
      ],
      "text/plain": [
       "<IPython.core.display.HTML object>"
      ]
     },
     "metadata": {},
     "output_type": "display_data"
    }
   ],
   "source": [
    "# Fit the pretrained model to our new data\n",
    "lr_from_lr_find = 1.2e-3\n",
    "an_learn.fine_tune(3,base_lr=lr_from_lr_find)"
   ]
  },
  {
   "cell_type": "markdown",
   "metadata": {},
   "source": [
    "### Model Interpretation"
   ]
  },
  {
   "cell_type": "code",
   "execution_count": 55,
   "metadata": {},
   "outputs": [
    {
     "data": {
      "text/html": [
       "\n",
       "<style>\n",
       "    /* Turns off some styling */\n",
       "    progress {\n",
       "        /* gets rid of default border in Firefox and Opera. */\n",
       "        border: none;\n",
       "        /* Needs to be in here for Safari polyfill so background images work as expected. */\n",
       "        background-size: auto;\n",
       "    }\n",
       "    progress:not([value]), progress:not([value])::-webkit-progress-bar {\n",
       "        background: repeating-linear-gradient(45deg, #7e7e7e, #7e7e7e 10px, #5c5c5c 10px, #5c5c5c 20px);\n",
       "    }\n",
       "    .progress-bar-interrupted, .progress-bar-interrupted::-webkit-progress-bar {\n",
       "        background: #F44336;\n",
       "    }\n",
       "</style>\n"
      ],
      "text/plain": [
       "<IPython.core.display.HTML object>"
      ]
     },
     "metadata": {},
     "output_type": "display_data"
    },
    {
     "data": {
      "text/html": [],
      "text/plain": [
       "<IPython.core.display.HTML object>"
      ]
     },
     "metadata": {},
     "output_type": "display_data"
    },
    {
     "data": {
      "text/html": [
       "\n",
       "<style>\n",
       "    /* Turns off some styling */\n",
       "    progress {\n",
       "        /* gets rid of default border in Firefox and Opera. */\n",
       "        border: none;\n",
       "        /* Needs to be in here for Safari polyfill so background images work as expected. */\n",
       "        background-size: auto;\n",
       "    }\n",
       "    progress:not([value]), progress:not([value])::-webkit-progress-bar {\n",
       "        background: repeating-linear-gradient(45deg, #7e7e7e, #7e7e7e 10px, #5c5c5c 10px, #5c5c5c 20px);\n",
       "    }\n",
       "    .progress-bar-interrupted, .progress-bar-interrupted::-webkit-progress-bar {\n",
       "        background: #F44336;\n",
       "    }\n",
       "</style>\n"
      ],
      "text/plain": [
       "<IPython.core.display.HTML object>"
      ]
     },
     "metadata": {},
     "output_type": "display_data"
    },
    {
     "data": {
      "text/html": [],
      "text/plain": [
       "<IPython.core.display.HTML object>"
      ]
     },
     "metadata": {},
     "output_type": "display_data"
    },
    {
     "data": {
      "image/png": "[encoded data removed]",
      "text/plain": [
       "<Figure size 432x288 with 1 Axes>"
      ]
     },
     "metadata": {
      "needs_background": "light"
     },
     "output_type": "display_data"
    }
   ],
   "source": [
    "an_interp = ClassificationInterpretation.from_learner(an_learn)\n",
    "an_interp.plot_confusion_matrix()"
   ]
  },
  {
   "cell_type": "code",
   "execution_count": 56,
   "metadata": {},
   "outputs": [
    {
     "data": {
      "text/html": [
       "\n",
       "<style>\n",
       "    /* Turns off some styling */\n",
       "    progress {\n",
       "        /* gets rid of default border in Firefox and Opera. */\n",
       "        border: none;\n",
       "        /* Needs to be in here for Safari polyfill so background images work as expected. */\n",
       "        background-size: auto;\n",
       "    }\n",
       "    progress:not([value]), progress:not([value])::-webkit-progress-bar {\n",
       "        background: repeating-linear-gradient(45deg, #7e7e7e, #7e7e7e 10px, #5c5c5c 10px, #5c5c5c 20px);\n",
       "    }\n",
       "    .progress-bar-interrupted, .progress-bar-interrupted::-webkit-progress-bar {\n",
       "        background: #F44336;\n",
       "    }\n",
       "</style>\n"
      ],
      "text/plain": [
       "<IPython.core.display.HTML object>"
      ]
     },
     "metadata": {},
     "output_type": "display_data"
    },
    {
     "data": {
      "text/html": [],
      "text/plain": [
       "<IPython.core.display.HTML object>"
      ]
     },
     "metadata": {},
     "output_type": "display_data"
    },
    {
     "name": "stdout",
     "output_type": "stream",
     "text": [
      "              precision    recall  f1-score   support\n",
      "\n",
      "      NORMAL       0.93      0.97      0.95       269\n",
      "   PNEUMONIA       0.99      0.97      0.98       774\n",
      "\n",
      "    accuracy                           0.97      1043\n",
      "   macro avg       0.96      0.97      0.97      1043\n",
      "weighted avg       0.97      0.97      0.97      1043\n",
      "\n"
     ]
    }
   ],
   "source": [
    "an_interp.print_classification_report()"
   ]
  },
  {
   "cell_type": "code",
   "execution_count": 57,
   "metadata": {},
   "outputs": [
    {
     "data": {
      "text/html": [
       "\n",
       "<style>\n",
       "    /* Turns off some styling */\n",
       "    progress {\n",
       "        /* gets rid of default border in Firefox and Opera. */\n",
       "        border: none;\n",
       "        /* Needs to be in here for Safari polyfill so background images work as expected. */\n",
       "        background-size: auto;\n",
       "    }\n",
       "    progress:not([value]), progress:not([value])::-webkit-progress-bar {\n",
       "        background: repeating-linear-gradient(45deg, #7e7e7e, #7e7e7e 10px, #5c5c5c 10px, #5c5c5c 20px);\n",
       "    }\n",
       "    .progress-bar-interrupted, .progress-bar-interrupted::-webkit-progress-bar {\n",
       "        background: #F44336;\n",
       "    }\n",
       "</style>\n"
      ],
      "text/plain": [
       "<IPython.core.display.HTML object>"
      ]
     },
     "metadata": {},
     "output_type": "display_data"
    },
    {
     "data": {
      "text/html": [],
      "text/plain": [
       "<IPython.core.display.HTML object>"
      ]
     },
     "metadata": {},
     "output_type": "display_data"
    },
    {
     "data": {
      "text/plain": [
       "(#5) [0.08511342853307724,0.9731543660163879,0.9817708333333334,0.989501312335958,0.9741602067183462]"
      ]
     },
     "execution_count": 57,
     "metadata": {},
     "output_type": "execute_result"
    }
   ],
   "source": [
    "an_res = an_learn.validate()\n",
    "an_res"
   ]
  }
 ],
 "metadata": {
  "kernelspec": {
   "display_name": "Python 3 (ipykernel)",
   "language": "python",
   "name": "python3"
  },
  "language_info": {
   "codemirror_mode": {
    "name": "ipython",
    "version": 3
   },
   "file_extension": ".py",
   "mimetype": "text/x-python",
   "name": "python",
   "nbconvert_exporter": "python",
   "pygments_lexer": "ipython3",
   "version": "3.9.7"
  }
 },
 "nbformat": 4,
 "nbformat_minor": 2
}
